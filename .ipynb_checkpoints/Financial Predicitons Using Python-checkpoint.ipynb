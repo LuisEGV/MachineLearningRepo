{
 "cells": [
  {
   "cell_type": "code",
   "execution_count": 1,
   "metadata": {},
   "outputs": [
    {
     "name": "stdout",
     "output_type": "stream",
     "text": [
      "Lets see\n"
     ]
    }
   ],
   "source": [
    "print(\"Lets see\");"
   ]
  },
  {
   "cell_type": "code",
   "execution_count": 20,
   "metadata": {},
   "outputs": [
    {
     "name": "stdout",
     "output_type": "stream",
     "text": [
      "            Adj. Close     HL_PCT  PCT_Change  Adj. Volume\n",
      "Date                                                      \n",
      "2004-08-19   50.322842 -47.808891  -49.677158   44659000.0\n",
      "2004-08-20   54.322689 -45.291119  -45.677311   22834300.0\n",
      "2004-08-23   54.869377 -43.084307  -45.130623   18256100.0\n",
      "2004-08-24   52.597363 -44.027217  -47.402637   15247300.0\n",
      "2004-08-25   53.164113 -45.832791  -46.835887    9188600.0\n"
     ]
    }
   ],
   "source": [
    "import quandl\n",
    "import pandas as pd\n",
    "import math\n",
    "import numpy as np \n",
    "from sklearn import preprocessing, cross_validation, svm\n",
    "from sklearn.linear_model import LinearRegression\n",
    "\n",
    "df = quandl.get('WIKI/GOOGL')\n",
    "\n",
    "df= df[['Adj. Open','Adj. High','Adj. Low','Adj. Close','Adj. Volume',]]\n",
    "df['HL_PCT'] = (df['Adj. High'] - df['Adj. Close'])/df['Adj. Close']*100.0\n",
    "df['PCT_Change'] = (df['Adj. Close'] - df['Adj. Open'])/df['Adj. Open']*100.0\n",
    "\n",
    "df = df[['Adj. Close', 'HL_PCT','PCT_Change', 'Adj. Volume']]\n",
    "\n",
    "\n",
    "forecast_col = 'Adj. Close'\n",
    "df.fillna(-99999, inplace=True)\n",
    "\n",
    "forecast_out = int(math.ceil(0.01*len(df)))\n",
    "\n",
    "df['label'] = df[forecast_col].shift(-forecast_out)\n",
    "df.dropna(inplace=True)\n",
    "\n",
    "X = np.array(df.drop(['label'],1))\n",
    "y = np.array(df['label'])\n",
    "X = preprocessing.scale(X)\n",
    "y = np.array(df['label'])\n",
    "\n",
    "X_train, X_train, y_train, y_test = cross_validation.train_test_split(X,y,test_size=0.2)\n",
    "\n",
    "#clf = LinearRegression()\n",
    "#clf.fit(X_train, y_train)\n",
    "#accuracy = clf.score(X_test, y_test)\n",
    "\n",
    "print(len(X),len(y))\n",
    "\n",
    " "
   ]
  },
  {
   "cell_type": "code",
   "execution_count": null,
   "metadata": {},
   "outputs": [],
   "source": []
  }
 ],
 "metadata": {
  "kernelspec": {
   "display_name": "Python 3",
   "language": "python",
   "name": "python3"
  },
  "language_info": {
   "codemirror_mode": {
    "name": "ipython",
    "version": 3
   },
   "file_extension": ".py",
   "mimetype": "text/x-python",
   "name": "python",
   "nbconvert_exporter": "python",
   "pygments_lexer": "ipython3",
   "version": "3.7.0"
  }
 },
 "nbformat": 4,
 "nbformat_minor": 2
}
